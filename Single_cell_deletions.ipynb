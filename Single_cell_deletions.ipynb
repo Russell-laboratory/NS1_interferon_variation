{
 "cells": [
  {
   "cell_type": "markdown",
   "metadata": {},
   "source": [
    "# Single cell deletions"
   ]
  },
  {
   "cell_type": "code",
   "execution_count": 6,
   "metadata": {},
   "outputs": [],
   "source": [
    "import sys\n",
    "scripts = 'scripts'\n",
    "import glob\n",
    "sys.path.append(scripts)\n",
    "import BLASTanalysis\n",
    "import os\n",
    "import importlib\n",
    "import pandas as pd\n",
    "blastdb = 'Database/WSN_mRNA_BLAST/WSN_mRNA.fa'\n",
    "resultsDir = 'Results'\n",
    "if not os.path.isdir(resultsDir):\n",
    "    os.mkdir(resultsDir)\n",
    "#blast variables for identifying junctions\n",
    "percentIdentity = 90\n",
    "wordSize = 10\n",
    "gapOpen = 5\n",
    "gapExtend = 2\n",
    "eValue = 0.000001\n",
    "outFormat = '\"6 qseqid qlen qstart qend sstart send evalue sseqid qseq\"'\n",
    "Tenxsegments = ['human_flu_PB2_mRNA','human_flu_PB1_mRNA','human_flu_PA_mRNA',  'human_flu_HA_mRNA','human_flu_NP_mRNA','human_flu_NA_mRNA','human_flu_M_mRNA','human_flu_NS_mRNA']\n",
    "\n",
    "#multiprocessing for mapping to speed things up a bit\n",
    "from multiprocessing import Pool\n",
    "numProcessors = 4\n",
    "import subprocess\n",
    "import seaborn as sns\n",
    "import matplotlib.pyplot as plt\n",
    "plt.rcParams['pdf.fonttype'] = 42\n",
    "plt.rcParams.update({'font.size': 12, 'axes.titlesize':'medium',})"
   ]
  },
  {
   "cell_type": "markdown",
   "metadata": {},
   "source": [
    "Pull split reads from 10x data. However, keep in mind a lot of these are going to be incorrectly annotated as they obey splice dynamics (and we will need to remove NS and M splice sites after the fact.)"
   ]
  },
  {
   "cell_type": "code",
   "execution_count": 22,
   "metadata": {},
   "outputs": [],
   "source": [
    "os.system('samtools view -H Sequencing/Methanol/NS_meOH/outs/possorted_genome_bam.bam > temp.sam')\n",
    "for segment in Tenxsegments:\n",
    "    os.system('samtools view Sequencing/Methanol/NS_meOH/outs/possorted_genome_bam.bam ' + segment + ' | awk \\'$3 ~ /mRNA/ {print}\\' | awk \\'($6 ~ /N/)\\' >> temp.sam')\n",
    "      \n",
    "\n",
    "!samtools fasta temp.sam > temp.fa\n",
    "outfile = 'Results/deletionJunctions.blastout'\n",
    "infile = 'temp.fa'\n",
    "arguments = ' '.join(['-db', blastdb, '-query', infile, '-perc_identity', str(percentIdentity), \n",
    "                     '-num_threads', str(numProcessors), '-word_size', str(wordSize), '-gapopen', str(gapOpen),\n",
    "                     '-gapextend', str(gapExtend), '-evalue', str(eValue), '-outfmt', outFormat,\n",
    "                     '-out', outfile])\n",
    "!blastn $arguments\n",
    "\n",
    "BLASTanalysis.delAnnotate('Results/deletionJunctions.blastout', 'Results/deletionJunctions_junctions.tsv', 'Database/WSN_mRNA.fa')\n",
    "\n",
    "\n",
    "BLASTanalysis.delAssign('temp.sam', 'Results/deletionJunctions_junctions.tsv','Results/deletionJunctions_junctions_barcodes.tsv')\n",
    "!rm -f temp.sam\n",
    "!rm -f temp.fa\n",
    "\n"
   ]
  },
  {
   "cell_type": "markdown",
   "metadata": {},
   "source": [
    "Remove normal M and NS splicing.\n",
    "\n"
   ]
  },
  {
   "cell_type": "code",
   "execution_count": 8,
   "metadata": {},
   "outputs": [],
   "source": [
    "mSplices = [(52,741), (146,741)]\n",
    "NSsplices = [(57,530)]\n",
    "deletions = pd.read_csv('Results/deletionJunctions_junctions_barcodes.tsv', encoding='utf8' , sep='\\t')\n",
    "for splice in mSplices:\n",
    "    deletions = deletions.loc[~((deletions.segment == 'M_mRNA') & (deletions.fiveprime == splice[0]) & (\n",
    "                                    deletions.threeprime == splice[1]))]\n",
    "for splice in NSsplices:\n",
    "    deletions = deletions.loc[~((deletions.segment == 'NS_mRNA') & (deletions.fiveprime == splice[0]) & (\n",
    "                                    deletions.threeprime == splice[1]))]\n",
    "deletions = deletions[['barcode', 'segment', 'fiveprime','threeprime', 'count']]\n",
    "deletions.to_csv('Results/deletionJunctions_junctions_barcodes.tsv', sep='\\t')"
   ]
  },
  {
   "cell_type": "markdown",
   "metadata": {},
   "source": [
    "Lets set some thresholds. Can subset to accepted cells in other notebook."
   ]
  },
  {
   "cell_type": "code",
   "execution_count": 9,
   "metadata": {},
   "outputs": [
    {
     "data": {
      "image/png": "[encoded data removed]",
      "text/plain": [
       "<Figure size 432x288 with 1 Axes>"
      ]
     },
     "metadata": {
      "needs_background": "light"
     },
     "output_type": "display_data"
    }
   ],
   "source": [
    "currNum = 1\n",
    "finalNum = 100\n",
    "graph = [] \n",
    "while currNum <= finalNum:\n",
    "    mean = deletions[deletions['count'] >= currNum].groupby([ 'segment', 'fiveprime', 'threeprime']).count().reset_index()['count'].mean()\n",
    "    currData = pd.DataFrame({'read_counts':[currNum], 'average emulsions':[mean]})\n",
    "    graph += [currData]\n",
    "    currNum += 1\n",
    "graph=pd.concat(graph)\n",
    "ax = sns.lineplot(data=graph, x=\"read_counts\", y=\"average emulsions\")\n",
    "sns.despine()\n",
    "plt.xlabel(' < read counts')\n",
    "plt.ylabel('Average number of barcodes associated')\n",
    "plt.axvline(x=20, c='0.5', linestyle='--')\n",
    "plt.savefig('Figures/deletionthreshold.pdf', format='pdf', bbox_inches = \"tight\")\n"
   ]
  },
  {
   "cell_type": "markdown",
   "metadata": {},
   "source": [
    "For each deletion it would be useful to record if full-length is likely there. This code might be a mite slow, just record the number of reads without gap immediately next to fiveprime junction (next to polyA tail)"
   ]
  },
  {
   "cell_type": "code",
   "execution_count": 5,
   "metadata": {},
   "outputs": [],
   "source": [
    "deletions = deletions[deletions['count'] >= 20]\n",
    "deletions = deletions.dropna()\n",
    "prefix = 'human_flu_'\n",
    "deletions = BLASTanalysis.adjReads(prefix, deletions, 'Sequencing/Methanol/NS_meOH/outs/possorted_genome_bam.bam')\n",
    "deletions.to_csv('Results/curatedDeletions.tsv', sep='\\t')"
   ]
  },
  {
   "cell_type": "code",
   "execution_count": null,
   "metadata": {},
   "outputs": [],
   "source": []
  }
 ],
 "metadata": {
  "kernelspec": {
   "display_name": "Python 3",
   "language": "python",
   "name": "python3"
  },
  "language_info": {
   "codemirror_mode": {
    "name": "ipython",
    "version": 3
   },
   "file_extension": ".py",
   "mimetype": "text/x-python",
   "name": "python",
   "nbconvert_exporter": "python",
   "pygments_lexer": "ipython3",
   "version": "3.7.9"
  }
 },
 "nbformat": 4,
 "nbformat_minor": 4
}
