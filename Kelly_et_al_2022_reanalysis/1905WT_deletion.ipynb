{
 "cells": [
  {
   "cell_type": "markdown",
   "id": "066522e3-3fe7-4a63-b5e5-83a034629d87",
   "metadata": {},
   "source": [
    "#"
   ]
  },
  {
   "cell_type": "code",
   "execution_count": 10,
   "id": "8ff249e7-e26b-4d7b-af78-66584a3d5e22",
   "metadata": {},
   "outputs": [],
   "source": [
    "import sys\n",
    "scripts = 'scripts'\n",
    "import glob\n",
    "sys.path.append(scripts)\n",
    "import BLASTanalysis\n",
    "import os\n",
    "import importlib\n",
    "import pandas as pd\n",
    "blastdb = 'Database/viral_mRNA.fasta'\n",
    "resultsDir = 'Results'\n",
    "if not os.path.isdir(resultsDir):\n",
    "    os.mkdir(resultsDir)\n",
    "#blast variables for identifying junctions\n",
    "percentIdentity = 90\n",
    "wordSize = 10\n",
    "gapOpen = 5\n",
    "gapExtend = 2\n",
    "eValue = 0.000001\n",
    "outFormat = '\"6 qseqid qlen qstart qend sstart send evalue sseqid qseq\"'\n",
    "Tenxsegments = ['PB2_mRNA','PB1_mRNA','PA_mRNA',  'HA_mRNA','NP_mRNA','NA_mRNA','M_mRNA','NS_mRNA']\n",
    "\n",
    "#multiprocessing for mapping to speed things up a bit\n",
    "from multiprocessing import Pool\n",
    "numProcessors = 2\n",
    "import subprocess\n",
    "import seaborn as sns\n",
    "import matplotlib.pyplot as plt\n",
    "plt.rcParams['pdf.fonttype'] = 42\n",
    "plt.rcParams.update({'font.size': 12, 'axes.titlesize':'medium',})"
   ]
  },
  {
   "cell_type": "code",
   "execution_count": 11,
   "id": "abc5fd67-a7d6-4c3b-8bdf-981d14cae8e2",
   "metadata": {},
   "outputs": [
    {
     "name": "stderr",
     "output_type": "stream",
     "text": [
      "[W::hts_idx_load2] The index file is older than the data file: 1905WT/outs/possorted_genome_bam.bam.bai\n",
      "[W::hts_idx_load2] The index file is older than the data file: 1905WT/outs/possorted_genome_bam.bam.bai\n",
      "[W::hts_idx_load2] The index file is older than the data file: 1905WT/outs/possorted_genome_bam.bam.bai\n",
      "[W::hts_idx_load2] The index file is older than the data file: 1905WT/outs/possorted_genome_bam.bam.bai\n",
      "[W::hts_idx_load2] The index file is older than the data file: 1905WT/outs/possorted_genome_bam.bam.bai\n",
      "[W::hts_idx_load2] The index file is older than the data file: 1905WT/outs/possorted_genome_bam.bam.bai\n",
      "[W::hts_idx_load2] The index file is older than the data file: 1905WT/outs/possorted_genome_bam.bam.bai\n",
      "[W::hts_idx_load2] The index file is older than the data file: 1905WT/outs/possorted_genome_bam.bam.bai\n"
     ]
    },
    {
     "name": "stdout",
     "output_type": "stream",
     "text": [
      "[M::bam2fq_mainloop] discarded 0 singletons\n",
      "[M::bam2fq_mainloop] processed 30146 reads\n"
     ]
    }
   ],
   "source": [
    "os.system('samtools view -H 1905WT/outs/possorted_genome_bam.bam > temp.sam')\n",
    "for segment in Tenxsegments:\n",
    "    os.system('samtools view 1905WT/outs/possorted_genome_bam.bam ' + segment + ' | awk \\'($6 ~ /N/)\\' >> temp.sam')\n",
    "      \n",
    "\n",
    "!samtools fasta temp.sam > temp.fa\n",
    "outfile = 'Results/deletionJunctions_1905WT.blastout'\n",
    "infile = 'temp.fa'\n",
    "arguments = ' '.join(['-db', blastdb, '-query', infile, '-perc_identity', str(percentIdentity), \n",
    "                     '-num_threads', str(numProcessors), '-word_size', str(wordSize), '-gapopen', str(gapOpen),\n",
    "                     '-gapextend', str(gapExtend), '-evalue', str(eValue), '-outfmt', outFormat,\n",
    "                     '-out', outfile])\n",
    "!blastn $arguments\n",
    "\n",
    "BLASTanalysis.delAnnotate('Results/deletionJunctions_1905WT.blastout', 'Results/deletionJunctions_junctions_1905WT.tsv', 'Database/viral_mRNA.fasta')\n",
    "\n",
    "\n",
    "BLASTanalysis.delAssign('temp.sam', 'Results/deletionJunctions_junctions_1905WT.tsv','Results/deletionJunctions_junctions_barcodes_1905WT.tsv')\n",
    "!rm -f temp.sam\n",
    "!rm -f temp.fa\n"
   ]
  },
  {
   "cell_type": "code",
   "execution_count": 12,
   "id": "479cbd78-2a96-42c4-bc10-1cf42d77069e",
   "metadata": {},
   "outputs": [],
   "source": [
    "mSplices = [(56,745), (48,745), (666,745)]\n",
    "NSsplices = [(57,530)]\n",
    "deletions = pd.read_csv('Results/deletionJunctions_junctions_barcodes_1905WT.tsv', encoding='utf8' , sep='\\t')\n",
    "for splice in mSplices:\n",
    "    deletions = deletions.loc[~((deletions.segment == 'M_mRNA') & (deletions.fiveprime == splice[0]) & (\n",
    "                                    deletions.threeprime == splice[1]))]\n",
    "for splice in NSsplices:\n",
    "    deletions = deletions.loc[~((deletions.segment == 'NS_mRNA') & (deletions.fiveprime == splice[0]) & (\n",
    "                                    deletions.threeprime == splice[1]))]\n",
    "deletions = deletions[['barcode', 'segment', 'fiveprime','threeprime', 'count']]\n",
    "deletions.to_csv('Results/deletionJunctions_junctions_barcodes_1905WT.tsv', sep='\\t')"
   ]
  },
  {
   "cell_type": "code",
   "execution_count": 13,
   "id": "f4659160-94b5-4cce-aaf1-0c238186f3c9",
   "metadata": {},
   "outputs": [
    {
     "data": {
      "image/png": "[encoded data removed]",
      "text/plain": [
       "<Figure size 640x480 with 1 Axes>"
      ]
     },
     "metadata": {},
     "output_type": "display_data"
    }
   ],
   "source": [
    "currNum = 1\n",
    "finalNum = 100\n",
    "graph = [] \n",
    "while currNum <= finalNum:\n",
    "    mean = deletions[deletions['count'] >= currNum].groupby([ 'segment', 'fiveprime', 'threeprime']).count().reset_index()['count'].mean()\n",
    "    currData = pd.DataFrame({'read_counts':[currNum], 'average emulsions':[mean]})\n",
    "    graph += [currData]\n",
    "    currNum += 1\n",
    "graph=pd.concat(graph)\n",
    "ax = sns.lineplot(data=graph, x=\"read_counts\", y=\"average emulsions\")\n",
    "sns.despine()\n",
    "plt.xlabel(' < read counts')\n",
    "plt.ylabel('Average number of barcodes associated')\n",
    "plt.axvline(x=20, c='0.5', linestyle='--')\n",
    "plt.ylim(0,6)\n",
    "plt.savefig('Figures/delThresh1905WT.pdf')"
   ]
  },
  {
   "cell_type": "code",
   "execution_count": 14,
   "id": "d7929100-8096-487e-a11a-7d05fad44d4f",
   "metadata": {},
   "outputs": [],
   "source": [
    "deletions = deletions[deletions['count'] >= 20]\n",
    "deletions = deletions.dropna()\n",
    "prefix = 'human_flu_'\n",
    "deletions = BLASTanalysis.adjReads('', deletions, '1905wt/outs/possorted_genome_bam.bam')\n",
    "deletions.to_csv('Results/curatedDeletions_1905WT.tsv', sep='\\t')"
   ]
  }
 ],
 "metadata": {
  "kernelspec": {
   "display_name": "Python 3 (ipykernel)",
   "language": "python",
   "name": "python3"
  },
  "language_info": {
   "codemirror_mode": {
    "name": "ipython",
    "version": 3
   },
   "file_extension": ".py",
   "mimetype": "text/x-python",
   "name": "python",
   "nbconvert_exporter": "python",
   "pygments_lexer": "ipython3",
   "version": "3.7.12"
  }
 },
 "nbformat": 4,
 "nbformat_minor": 5
}
